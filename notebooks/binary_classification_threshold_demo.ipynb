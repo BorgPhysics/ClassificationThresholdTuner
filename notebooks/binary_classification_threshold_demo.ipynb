{
 "cells": [
  {
   "cell_type": "code",
   "execution_count": 1,
   "id": "5ef516e5",
   "metadata": {},
   "outputs": [],
   "source": [
    "# This demo covers using the ClassificationThesholdTuner tool, which helps\n",
    "# identify and describe thresholds that may be used for classification\n",
    "# problems. \n",
    "\n",
    "# For simplicity, this notebook uses synthetic data. Another notebook uses\n",
    "# real data. "
   ]
  },
  {
   "cell_type": "code",
   "execution_count": 2,
   "id": "9e04ce8c",
   "metadata": {},
   "outputs": [],
   "source": [
    "import pandas as pd\n",
    "import numpy as np\n",
    "from sklearn.preprocessing import MinMaxScaler\n",
    "import matplotlib.pyplot as plt\n",
    "import seaborn as sns\n",
    "import sys\n",
    "\n",
    "sys.path.insert(0, \"..\")\n",
    "from threshold_tuner import ClassificationThesholdTuner"
   ]
  },
  {
   "cell_type": "markdown",
   "id": "174c62c2",
   "metadata": {},
   "source": [
    "# Functions to generate synthetic predictions"
   ]
  },
  {
   "cell_type": "code",
   "execution_count": 3,
   "id": "c51eb9cc",
   "metadata": {},
   "outputs": [],
   "source": [
    "NUM_ROWS = 10_000_000"
   ]
  },
  {
   "cell_type": "code",
   "execution_count": 4,
   "id": "7bf5b825",
   "metadata": {},
   "outputs": [],
   "source": [
    "# The synthetic data consists only of true labels and predicted probabilities,\n",
    "# as these are all that are needed by ClassificationThesholdTuner; it does\n",
    "# not examine the original features. \n",
    "\n",
    "# Simple case with half the rows true 0 and half true 1. The predictions are\n",
    "# well-separated. This is a basic smoke test, as any threshold in the \n",
    "# vicinity of 0.5 will perfectly separate the classes. \n",
    "def generate_data_1():\n",
    "    num_rows_per_class = NUM_ROWS // 2\n",
    "    np.random.seed(0)\n",
    "    d = pd.DataFrame({\"Y\": ['A']*num_rows_per_class + ['B']*num_rows_per_class,\n",
    "                  \"Pred_Proba\": \n",
    "                      np.random.normal(0.5, 0.1, num_rows_per_class).tolist() + \\\n",
    "                      np.random.normal(1.5, 0.1, num_rows_per_class).tolist()\n",
    "                 })\n",
    "    return d, ['A', 'B']\n",
    "\n",
    "# Similar to generate_data_1(), but the predictions overlap more\n",
    "def generate_data_2():\n",
    "    num_rows_per_class = NUM_ROWS // 2\n",
    "    np.random.seed(0)\n",
    "    d = pd.DataFrame({\"Y\": ['A']*num_rows_per_class + ['B']*num_rows_per_class,\n",
    "                  \"Pred_Proba\": \n",
    "                      np.random.normal(0.7, 0.3, num_rows_per_class).tolist() + \\\n",
    "                      np.random.normal(1.4, 0.3, num_rows_per_class).tolist()\n",
    "                 })\n",
    "    return d, ['A', 'B']\n"
   ]
  },
  {
   "cell_type": "markdown",
   "id": "f1b59128",
   "metadata": {},
   "source": [
    "# Generate the test data"
   ]
  },
  {
   "cell_type": "code",
   "execution_count": 5,
   "id": "54b5389d",
   "metadata": {},
   "outputs": [
    {
     "data": {
      "text/html": [
       "<div>\n",
       "<style scoped>\n",
       "    .dataframe tbody tr th:only-of-type {\n",
       "        vertical-align: middle;\n",
       "    }\n",
       "\n",
       "    .dataframe tbody tr th {\n",
       "        vertical-align: top;\n",
       "    }\n",
       "\n",
       "    .dataframe thead th {\n",
       "        text-align: right;\n",
       "    }\n",
       "</style>\n",
       "<table border=\"1\" class=\"dataframe\">\n",
       "  <thead>\n",
       "    <tr style=\"text-align: right;\">\n",
       "      <th></th>\n",
       "      <th>Y</th>\n",
       "      <th>Pred_Proba</th>\n",
       "    </tr>\n",
       "  </thead>\n",
       "  <tbody>\n",
       "    <tr>\n",
       "      <th>0</th>\n",
       "      <td>A</td>\n",
       "      <td>1.229216</td>\n",
       "    </tr>\n",
       "    <tr>\n",
       "      <th>1</th>\n",
       "      <td>A</td>\n",
       "      <td>0.820047</td>\n",
       "    </tr>\n",
       "    <tr>\n",
       "      <th>2</th>\n",
       "      <td>A</td>\n",
       "      <td>0.993621</td>\n",
       "    </tr>\n",
       "    <tr>\n",
       "      <th>3</th>\n",
       "      <td>A</td>\n",
       "      <td>1.372268</td>\n",
       "    </tr>\n",
       "    <tr>\n",
       "      <th>4</th>\n",
       "      <td>A</td>\n",
       "      <td>1.260267</td>\n",
       "    </tr>\n",
       "    <tr>\n",
       "      <th>...</th>\n",
       "      <td>...</td>\n",
       "      <td>...</td>\n",
       "    </tr>\n",
       "    <tr>\n",
       "      <th>9999995</th>\n",
       "      <td>B</td>\n",
       "      <td>1.577063</td>\n",
       "    </tr>\n",
       "    <tr>\n",
       "      <th>9999996</th>\n",
       "      <td>B</td>\n",
       "      <td>1.540285</td>\n",
       "    </tr>\n",
       "    <tr>\n",
       "      <th>9999997</th>\n",
       "      <td>B</td>\n",
       "      <td>0.816586</td>\n",
       "    </tr>\n",
       "    <tr>\n",
       "      <th>9999998</th>\n",
       "      <td>B</td>\n",
       "      <td>1.296804</td>\n",
       "    </tr>\n",
       "    <tr>\n",
       "      <th>9999999</th>\n",
       "      <td>B</td>\n",
       "      <td>1.177943</td>\n",
       "    </tr>\n",
       "  </tbody>\n",
       "</table>\n",
       "<p>10000000 rows × 2 columns</p>\n",
       "</div>"
      ],
      "text/plain": [
       "         Y  Pred_Proba\n",
       "0        A    1.229216\n",
       "1        A    0.820047\n",
       "2        A    0.993621\n",
       "3        A    1.372268\n",
       "4        A    1.260267\n",
       "...     ..         ...\n",
       "9999995  B    1.577063\n",
       "9999996  B    1.540285\n",
       "9999997  B    0.816586\n",
       "9999998  B    1.296804\n",
       "9999999  B    1.177943\n",
       "\n",
       "[10000000 rows x 2 columns]"
      ]
     },
     "execution_count": 5,
     "metadata": {},
     "output_type": "execute_result"
    }
   ],
   "source": [
    "d, target_classes = generate_data_2()\n",
    "d"
   ]
  },
  {
   "cell_type": "code",
   "execution_count": 6,
   "id": "ca5eae5e",
   "metadata": {},
   "outputs": [
    {
     "data": {
      "text/plain": [
       "['A', 'B']"
      ]
     },
     "execution_count": 6,
     "metadata": {},
     "output_type": "execute_result"
    }
   ],
   "source": [
    "target_classes"
   ]
  },
  {
   "cell_type": "code",
   "execution_count": 7,
   "id": "38dc9d24",
   "metadata": {},
   "outputs": [],
   "source": [
    "# Ensure the probabilities are between 0.0 and 1.0. It is possible for the scores coming\n",
    "# from MinMaxScaler to be slighly outside this range.\n",
    "\n",
    "scaler= MinMaxScaler()\n",
    "proba_cols = [x for x in d.columns if \"Proba\" in x]\n",
    "\n",
    "for col_name in proba_cols:\n",
    "    d[col_name] = scaler.fit_transform(d[col_name].values.reshape(-1, 1)).reshape(1, -1)[0]\n",
    "    d[col_name] = [x if x <= 1.0 else 1.0 for x in d[col_name]]\n",
    "    d[col_name] = [x if x >= 0.0 else 0.0 for x in d[col_name]]"
   ]
  },
  {
   "cell_type": "code",
   "execution_count": 8,
   "id": "954c8b42",
   "metadata": {},
   "outputs": [
    {
     "data": {
      "text/html": [
       "<div>\n",
       "<style scoped>\n",
       "    .dataframe tbody tr th:only-of-type {\n",
       "        vertical-align: middle;\n",
       "    }\n",
       "\n",
       "    .dataframe tbody tr th {\n",
       "        vertical-align: top;\n",
       "    }\n",
       "\n",
       "    .dataframe thead th {\n",
       "        text-align: right;\n",
       "    }\n",
       "</style>\n",
       "<table border=\"1\" class=\"dataframe\">\n",
       "  <thead>\n",
       "    <tr style=\"text-align: right;\">\n",
       "      <th></th>\n",
       "      <th>Y</th>\n",
       "      <th>Pred_Proba</th>\n",
       "      <th>Pred</th>\n",
       "    </tr>\n",
       "  </thead>\n",
       "  <tbody>\n",
       "    <tr>\n",
       "      <th>0</th>\n",
       "      <td>A</td>\n",
       "      <td>0.545601</td>\n",
       "      <td>B</td>\n",
       "    </tr>\n",
       "    <tr>\n",
       "      <th>1</th>\n",
       "      <td>A</td>\n",
       "      <td>0.436101</td>\n",
       "      <td>A</td>\n",
       "    </tr>\n",
       "    <tr>\n",
       "      <th>2</th>\n",
       "      <td>A</td>\n",
       "      <td>0.482552</td>\n",
       "      <td>A</td>\n",
       "    </tr>\n",
       "    <tr>\n",
       "      <th>3</th>\n",
       "      <td>A</td>\n",
       "      <td>0.583884</td>\n",
       "      <td>B</td>\n",
       "    </tr>\n",
       "    <tr>\n",
       "      <th>4</th>\n",
       "      <td>A</td>\n",
       "      <td>0.553911</td>\n",
       "      <td>B</td>\n",
       "    </tr>\n",
       "    <tr>\n",
       "      <th>...</th>\n",
       "      <td>...</td>\n",
       "      <td>...</td>\n",
       "      <td>...</td>\n",
       "    </tr>\n",
       "    <tr>\n",
       "      <th>9999995</th>\n",
       "      <td>B</td>\n",
       "      <td>0.638691</td>\n",
       "      <td>B</td>\n",
       "    </tr>\n",
       "    <tr>\n",
       "      <th>9999996</th>\n",
       "      <td>B</td>\n",
       "      <td>0.628848</td>\n",
       "      <td>B</td>\n",
       "    </tr>\n",
       "    <tr>\n",
       "      <th>9999997</th>\n",
       "      <td>B</td>\n",
       "      <td>0.435175</td>\n",
       "      <td>A</td>\n",
       "    </tr>\n",
       "    <tr>\n",
       "      <th>9999998</th>\n",
       "      <td>B</td>\n",
       "      <td>0.563689</td>\n",
       "      <td>B</td>\n",
       "    </tr>\n",
       "    <tr>\n",
       "      <th>9999999</th>\n",
       "      <td>B</td>\n",
       "      <td>0.531880</td>\n",
       "      <td>B</td>\n",
       "    </tr>\n",
       "  </tbody>\n",
       "</table>\n",
       "<p>10000000 rows × 3 columns</p>\n",
       "</div>"
      ],
      "text/plain": [
       "         Y  Pred_Proba Pred\n",
       "0        A    0.545601    B\n",
       "1        A    0.436101    A\n",
       "2        A    0.482552    A\n",
       "3        A    0.583884    B\n",
       "4        A    0.553911    B\n",
       "...     ..         ...  ...\n",
       "9999995  B    0.638691    B\n",
       "9999996  B    0.628848    B\n",
       "9999997  B    0.435175    A\n",
       "9999998  B    0.563689    B\n",
       "9999999  B    0.531880    B\n",
       "\n",
       "[10000000 rows x 3 columns]"
      ]
     },
     "execution_count": 8,
     "metadata": {},
     "output_type": "execute_result"
    }
   ],
   "source": [
    "# Set the Binary prediction column, to start, based on a threshold of 0.5\n",
    "\n",
    "d['Pred'] = np.where(d[\"Pred_Proba\"] > 0.50, \"B\", \"A\")\n",
    "d"
   ]
  },
  {
   "cell_type": "code",
   "execution_count": 9,
   "id": "c94fe58b",
   "metadata": {},
   "outputs": [
    {
     "data": {
      "text/plain": [
       "Y              object\n",
       "Pred_Proba    float64\n",
       "Pred           object\n",
       "dtype: object"
      ]
     },
     "execution_count": 9,
     "metadata": {},
     "output_type": "execute_result"
    }
   ],
   "source": [
    "d.dtypes"
   ]
  },
  {
   "cell_type": "markdown",
   "id": "0c59fff6",
   "metadata": {},
   "source": [
    "# Test the visualizations"
   ]
  },
  {
   "cell_type": "code",
   "execution_count": 10,
   "id": "50f2d24b",
   "metadata": {},
   "outputs": [],
   "source": [
    "tuner = ClassificationThesholdTuner()"
   ]
  },
  {
   "cell_type": "code",
   "execution_count": null,
   "id": "f7ecbec3",
   "metadata": {},
   "outputs": [],
   "source": [
    "# Simple output based on the predicted classes\n",
    "\n",
    "tuner.print_stats_labels(\n",
    "    y_true=d[\"Y\"], \n",
    "    target_classes=target_classes,\n",
    "    y_pred=d[\"Pred\"])"
   ]
  },
  {
   "cell_type": "code",
   "execution_count": null,
   "id": "c2d2e5ad",
   "metadata": {
    "scrolled": false
   },
   "outputs": [],
   "source": [
    "# Simple output based on the predicted probabilities for each class. This\n",
    "# includes a call to print_stats_labels(), and provides additional information\n",
    "# based on the probabilities. \n",
    "\n",
    "tuner.print_stats_proba(\n",
    "    y_true=d[\"Y\"], \n",
    "    target_classes=target_classes, \n",
    "    y_pred_proba=d[\"Pred_Proba\"])    "
   ]
  },
  {
   "cell_type": "code",
   "execution_count": null,
   "id": "986be8d1",
   "metadata": {},
   "outputs": [],
   "source": [
    "# Display stats about the precision & recall for various ranges of the \n",
    "# predicted probabilities.\n",
    "\n",
    "tuner.print_stats_table(\n",
    "    y_true=d['Y'], \n",
    "    target_classes=target_classes,\n",
    "    y_pred_proba=d[\"Pred_Proba\"],\n",
    "    num_ranges=10\n",
    ")"
   ]
  },
  {
   "cell_type": "markdown",
   "id": "ad3a6a59",
   "metadata": {},
   "source": [
    "# Tools to help adjust the threshold"
   ]
  },
  {
   "cell_type": "code",
   "execution_count": null,
   "id": "8ab28c03",
   "metadata": {
    "scrolled": false
   },
   "outputs": [],
   "source": [
    "# View the effect of different thresholds for a specified\n",
    "# set of thresholds. This uses the default set of 0.1, 0.2,\n",
    "# 0.3 ... up to 0.9.\n",
    "\n",
    "tuner.plot_by_threshold(\n",
    "    y_true=d['Y'], \n",
    "    target_classes=target_classes,\n",
    "    y_pred_proba=d[\"Pred_Proba\"])"
   ]
  },
  {
   "cell_type": "code",
   "execution_count": null,
   "id": "4e261742",
   "metadata": {},
   "outputs": [],
   "source": [
    "# View a reduced set of thresholds. This is an example\n",
    "# specifying the start, end, and num_steps parameters.\n",
    "\n",
    "tuner.plot_by_threshold(\n",
    "    y_true=d['Y'], \n",
    "    target_classes=target_classes,\n",
    "    y_pred_proba=d[\"Pred_Proba\"], \n",
    "    start=0.50, end=0.55, num_steps=6)"
   ]
  },
  {
   "cell_type": "code",
   "execution_count": null,
   "id": "7cf7ca1a",
   "metadata": {},
   "outputs": [],
   "source": [
    "# To compare choices for thresholds, we look closer at the slices\n",
    "# between a set of potential thresholds. Here we specify 5 slices.\n",
    "# The table output will also include the ranges before and after\n",
    "# these, so 7 slices in total.\n",
    "\n",
    "tuner.describe_slices(    \n",
    "    y_true=d['Y'], \n",
    "    target_classes=target_classes,\n",
    "    y_pred_proba=d[\"Pred_Proba\"], \n",
    "    start=0.3, end=0.7, num_slices=5)"
   ]
  },
  {
   "cell_type": "code",
   "execution_count": null,
   "id": "508fc72e",
   "metadata": {},
   "outputs": [],
   "source": [
    "# View a smaller range of potential thresholds more closely.\n",
    "\n",
    "tuner.describe_slices(    \n",
    "    y_true=d['Y'], \n",
    "    target_classes=target_classes,\n",
    "    y_pred_proba=d[\"Pred_Proba\"], \n",
    "    start=0.4, end=0.6, num_slices=10)"
   ]
  },
  {
   "cell_type": "code",
   "execution_count": null,
   "id": "bff10639",
   "metadata": {},
   "outputs": [],
   "source": [
    "# Zoom in further\n",
    "\n",
    "tuner.describe_slices(    \n",
    "    y_true=d['Y'], \n",
    "    target_classes=target_classes,\n",
    "    y_pred_proba=d[\"Pred_Proba\"], \n",
    "    start=0.5, end=0.55, num_slices=6)"
   ]
  },
  {
   "cell_type": "markdown",
   "id": "446a273d",
   "metadata": {},
   "source": [
    "# Select the optimal threshold"
   ]
  },
  {
   "cell_type": "code",
   "execution_count": null,
   "id": "e64d0f2b",
   "metadata": {},
   "outputs": [],
   "source": [
    "# Allow ClassificationThesholdTuner to identify the best threshold optimizing\n",
    "# for a specified metric.\n",
    "\n",
    "from sklearn.metrics import f1_score\n",
    "\n",
    "best_threshold = tuner.tune_threshold(\n",
    "    y_true=d['Y'], \n",
    "    target_classes=target_classes,\n",
    "    y_pred_proba=d[\"Pred_Proba\"],\n",
    "    metric=f1_score,\n",
    "    average='macro',\n",
    "    higher_is_better=True,\n",
    "    max_iterations=5\n",
    ")\n",
    "best_threshold"
   ]
  },
  {
   "cell_type": "code",
   "execution_count": null,
   "id": "8b6d2166",
   "metadata": {},
   "outputs": [],
   "source": [
    "tuned_pred = tuner.get_predictions(target_classes, d[\"Pred_Proba\"], None, best_threshold)\n",
    "\n",
    "# Show the first 10 predictions\n",
    "tuned_pred[:10]"
   ]
  },
  {
   "cell_type": "markdown",
   "id": "b5351d22",
   "metadata": {},
   "source": [
    "# Redisplay the metrics with the optimal threshold"
   ]
  },
  {
   "cell_type": "code",
   "execution_count": null,
   "id": "07ae6e85",
   "metadata": {},
   "outputs": [],
   "source": [
    "# We can see, with the optimized threshold, the F1 macro score \n",
    "# increased from about 0.87 to about 0.88 (results will vary slightly \n",
    "# each run)\n",
    "\n",
    "d['Pred'] = np.where(d[\"Pred_Proba\"] > best_threshold, \"B\", \"A\")\n",
    "    \n",
    "tuner.print_stats_labels(\n",
    "    y_true=d[\"Y\"], \n",
    "    target_classes=target_classes,\n",
    "    y_pred=d[\"Pred\"])    "
   ]
  },
  {
   "cell_type": "code",
   "execution_count": null,
   "id": "d83fab01",
   "metadata": {},
   "outputs": [],
   "source": [
    "# Call print_stats_proba() again, this time with the threshold.\n",
    "# The threshold is simply drawn on the plots to provide some understanding\n",
    "# of the threshold. \n",
    "\n",
    "tuner.print_stats_proba(\n",
    "    y_true=d[\"Y\"], \n",
    "    target_classes=target_classes, \n",
    "    y_pred_proba=d[\"Pred_Proba\"],\n",
    "    thresholds=best_threshold\n",
    ")  "
   ]
  },
  {
   "cell_type": "markdown",
   "id": "46df13fe",
   "metadata": {},
   "source": [
    "# Tuning to maximize binary F1 Score"
   ]
  },
  {
   "cell_type": "code",
   "execution_count": null,
   "id": "a0e0cbc2",
   "metadata": {},
   "outputs": [],
   "source": [
    "from sklearn.metrics import f1_score\n",
    "\n",
    "# In this case, the pos_label must be specified as well.\n",
    "\n",
    "best_threshold = tuner.tune_threshold(\n",
    "    y_true=d['Y'],\n",
    "    target_classes=target_classes,\n",
    "    y_pred_proba=d[\"Pred_Proba\"],\n",
    "    metric=f1_score,\n",
    "    average='binary',\n",
    "    pos_label='B',\n",
    "    higher_is_better=True,\n",
    "    max_iterations=5\n",
    ")\n",
    "best_threshold"
   ]
  },
  {
   "cell_type": "code",
   "execution_count": null,
   "id": "ae23056b",
   "metadata": {},
   "outputs": [],
   "source": []
  }
 ],
 "metadata": {
  "kernelspec": {
   "display_name": "Python 3 (ipykernel)",
   "language": "python",
   "name": "python3"
  },
  "language_info": {
   "codemirror_mode": {
    "name": "ipython",
    "version": 3
   },
   "file_extension": ".py",
   "mimetype": "text/x-python",
   "name": "python",
   "nbconvert_exporter": "python",
   "pygments_lexer": "ipython3",
   "version": "3.9.6"
  }
 },
 "nbformat": 4,
 "nbformat_minor": 5
}
